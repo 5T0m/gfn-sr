{
 "cells": [
  {
   "cell_type": "markdown",
   "metadata": {},
   "source": [
    "## GFlowNet As a BSR Sampler: Demo & Tutorial\n",
    "\n",
    "In this brief tutorial, we will demonstrate the power of GFlowNet (short for GFN) -- a new generative neural network structure proposed by [Bengio et el.](https://yoshuabengio.org/2022/03/05/generative-flow-networks/) -- in Bayesian symbolic regression problems. While it's recommended to have some prior knowledge on GFN, especially on its specification (the concepts of \"flows\" and \"transitions\"), through the original paper or the official tutorial,  we will give a clear walk through over the setup of the model from scratch.\n",
    "\n",
    "The problem that the GFN in this tutorial seeks to solve is a simplified version of Symbolic Regression (SR), in which we are given a known (or confident) expression tree structure and all we search over is the specific features/operators that go into each tree node. In comparison with previous methods like BMS, this approach reduces the needs of finding structure (S), and we make such simplification since (1) we might be able to use other routines to figure out **S** (such as enumerating tree structures) and (2) this is a MVP model and we hope to inspire more complicated upgrades in the near future.\n"
   ]
  },
  {
   "cell_type": "markdown",
   "metadata": {},
   "source": [
    "### Step 1: Expression Tree Representation\n",
    "\n",
    "The problem begins with a given expression tree structure **S**. A tree structure is an uninitialized binary tree (i.e. simply tell us which node is leaf, which is binary without specifying the operator/feature on those nodes). For example, we might have a structure:"
   ]
  },
  {
   "cell_type": "code",
   "execution_count": 1,
   "metadata": {},
   "outputs": [
    {
     "name": "stdout",
     "output_type": "stream",
     "text": [
      "\n",
      "    -\n",
      "   / \\\n",
      "  -   -\n",
      " /\n",
      "-\n",
      "\n"
     ]
    }
   ],
   "source": [
    "from binarytree import Node\n",
    "import datetime\n",
    "\n",
    "demo_tree = Node(\"-\", Node(\"-\", Node(\"-\")), Node(\"-\"))\n",
    "print(demo_tree)"
   ]
  },
  {
   "cell_type": "markdown",
   "metadata": {},
   "source": [
    "Expressions like $sin(x) + y$ or $\\frac{log(y)}{x}$ all fall under this structure, as expressed by"
   ]
  },
  {
   "cell_type": "code",
   "execution_count": 2,
   "metadata": {},
   "outputs": [
    {
     "name": "stdout",
     "output_type": "stream",
     "text": [
      "\n",
      "     _+\n",
      "    /  \\\n",
      "  sin   y\n",
      " /\n",
      "x\n",
      " \n",
      "     _/\n",
      "    /  \\\n",
      "  log   x\n",
      " /\n",
      "y\n",
      "\n"
     ]
    }
   ],
   "source": [
    "demo_tree2 = Node(\"+\", Node(\"sin\", Node(\"x\")), Node(\"y\"))\n",
    "demo_tree3 = Node(\"/\", Node(\"log\", Node(\"y\")), Node(\"x\"))\n",
    "print(demo_tree2, demo_tree3)"
   ]
  },
  {
   "cell_type": "markdown",
   "metadata": {},
   "source": [
    "However, in order to better work with neural networks, we consider an alternative vector-based representation of a tree structure. Consider a tree structure **S** of depth **D**, its vector representation lives in space $\\mathbb{R}^n$ where n is the number of nodes in the full binary tree of depth **D**. We construct such vector by doing a level-by-level check on **S**, and appending a placeholder (such as 1) if there's a node and 0 otherwise. For example, the above tree structure translates to"
   ]
  },
  {
   "cell_type": "code",
   "execution_count": 3,
   "metadata": {},
   "outputs": [
    {
     "data": {
      "text/plain": [
       "[1, 1, 1, 1, 0, 0, 0]"
      ]
     },
     "execution_count": 3,
     "metadata": {},
     "output_type": "execute_result"
    }
   ],
   "source": [
    "[1, 1, 1, 1, 0, 0, 0]"
   ]
  },
  {
   "cell_type": "markdown",
   "metadata": {},
   "source": [
    "Since it only has the leftmost leaf node in the third level (the dimension of its vector is $7 = 2^3 - 1$, which is the number of nodes in a full binary tree of depth 3).\n",
    "\n",
    "On the other hand, every valid expression tree of structure **S**, denoted as **T**, is a fully instantiated tree. A fully instantiated tree can also be encoded in a vector format, but the values of that vector need to depend on the **operator space**. Consider this simple setup:"
   ]
  },
  {
   "cell_type": "code",
   "execution_count": 4,
   "metadata": {},
   "outputs": [],
   "source": [
    "import torch\n",
    "\n",
    "NUM_FEATURES = 2  # e.g. the dataset has two covariates x0 and x1\n",
    "BIN_OPS = [\n",
    "    torch.add,\n",
    "    torch.mul,\n",
    "    torch.div,\n",
    "    torch.sub\n",
    "]  # 4 binary operators\n",
    "\n",
    "UN_OPS = [\n",
    "    torch.sin,\n",
    "    torch.cos,\n",
    "    torch.exp,\n",
    "    torch.log,\n",
    "    torch.abs\n",
    "]  # 5 unary operators"
   ]
  },
  {
   "cell_type": "markdown",
   "metadata": {},
   "source": [
    "In the vector representation, we then use 0 to denote an empty node (e.g. the right child of an unary node), 1-2 to denote the features (for leaf node), 3-6 for the 4 available binary operators, and 7-11 for the 5 unary operators. The expression $sin(x) + y$ is thus $[3, 7, 2, 1, 0, 0, 0]$ if our features are $[x, y]$. We actually have a helper function to do such conversion."
   ]
  },
  {
   "cell_type": "code",
   "execution_count": 5,
   "metadata": {},
   "outputs": [
    {
     "name": "stdout",
     "output_type": "stream",
     "text": [
      "\n",
      "      _+\n",
      "     /  \\\n",
      "  _sin   X1\n",
      " /\n",
      "X0\n",
      "\n"
     ]
    }
   ],
   "source": [
    "from tree_utils import encoding_to_tree\n",
    "ecd = torch.Tensor([3, 7, 2, 1, 0, 0, 0])\n",
    "print(encoding_to_tree(ecd))"
   ]
  },
  {
   "cell_type": "markdown",
   "metadata": {},
   "source": [
    "### Step 2: Action and State Space\n",
    "\n",
    "Once we've decided the above representations of the tree structures, we can formally define the GFN problem that we hope to solve. Between an uninstantiated (empty) structure and a valid expression tree, we can have many intermediate **states**. An example state looks like"
   ]
  },
  {
   "cell_type": "code",
   "execution_count": 6,
   "metadata": {},
   "outputs": [
    {
     "name": "stdout",
     "output_type": "stream",
     "text": [
      "\n",
      "   _+\n",
      "  /  \\\n",
      "sin   X1\n",
      "\n"
     ]
    }
   ],
   "source": [
    "ecd2 = torch.Tensor([3, 7, 2, 0, 0, 0, 0])\n",
    "print(encoding_to_tree(ecd2))"
   ]
  },
  {
   "cell_type": "markdown",
   "metadata": {},
   "source": [
    "which is an invalid expression tree due to the lack of operand under `sin`, but once we define the **actions** on the **states**, we have the capacity of turning it into the aforementioned expression.\n",
    "\n",
    "In this simple problem setup, for a given state **X**, we simply compare its vector representation with that of the given tree structure **S**; the comparison should give us the next uninstantiated node and its type (leaf, unary, or binary). Based on these information, our action space is then the corresponding features or operators to be used for instantiating the new node. For the above example, since the leftmost leaf node is the next (and final) uninstantiated node, our action space is simply $A = \\{X_0, X_1\\}$. This formulation of the action space looks simple but restrictive -- due to the way we construct the vector representation, this method essentially builds up a valid expression tree from left to right, level by level, from an empty tree.\n",
    "\n",
    "A forward policy $\\pi$ in GFN is a stochastic mapping from the state space to the action space. This stochastic policy is usually represented as a neural network. In our case, we use a 4-layer fully connected NN (with 32 intermediate nodes, see `FTForwardPolicy` class) with `LeakyRELU` activations in between and a `sigmoid` output layer. The stochastic policy is achieved through outputting the probabilities for different actions, and we choose the action by sampling from a categorical distribution with these probabilities. Despite the stochastic policy, actions in GFN are determinstic, which means that we are guaranteed to reach a next state $s'$ with a fixed action $a'$.\n",
    "\n",
    "GFN also requires specifying a `backward policy` network, which estimates the sources of incoming flows for a given state (the `forward policy` can be thought as estimating the destinations of outgoing flows). In our setup, it's obvious that there's only one source state for a given state (you can pause and think about why; maybe revisit the action specification above?), the backward policy is trivial.\n",
    "\n",
    "<u>>Side note for anyone interested in the code</u>\n",
    "\n",
    "Since our policy is represented by a NN, the output features (# of actions) is usually fixed; but how do we account for the different available actions for different states (e.g. if the next node to instantiate is a leaf node, then we should only allow features, i.e. the action 1 & 2)? The solution is to add a `mask` function that reduces the probabilities of all \"unavailable\" actions of a given state to zero. We can thus rescale the other probabilities to make sure that the action we sample is 100% valid."
   ]
  },
  {
   "cell_type": "markdown",
   "metadata": {},
   "source": [
    "### Step 3: Rewards and Training\n",
    "\n",
    "In the context of symbolic regression, we grant rewards to a valid expression tree based on how this expression \"fits in\" the data we have. There are many ways of doing so, and the naive one we use is\n",
    "$$\n",
    "max(1, 100 * (1 - MSE(\\hat y, y)/TSS(y)))\n",
    "$$"
   ]
  },
  {
   "cell_type": "markdown",
   "metadata": {},
   "source": [
    "Where $TSS(y) =  ||y - \\bar{y}||^2$ is the total sum of squares for the original data (same as the one in linear regression problems) that gives the performance of a baseline predictor (i.e. use the data mean). This reward function transforms the ratio between our predictor's MSE and the baseline onto a scale between 1 and 100, with smaller MSE giving higher rewards.\n",
    "\n",
    "Once we have the rewards, we can formulate the **trajactory balance loss** (TBL) in the original paper. The details for this loss is omitted here, but the gist is that we will minimize this loss by optimizing our forward policy NN (through backpropagation with `Adam` optimizer) so that the incoming flows and outgoing flows of the states match.\n",
    "\n",
    "There are two ways to train the GFN: on-policy and off-policy trainings -- borrowing terminologies from Reinforcement Learning (RL). The difference is that on-policy training keeps using the trajectories (paths going from a scratch tree to a valid expression tree that receives rewards) generated from the under-training GFN itself; while in off-policy training we can use some other routines to generate these paths independent of the GFN under updates. We only implement on-policy training for simplicity purpose.\n",
    "\n",
    "### Step 4: Training and results\n",
    "\n",
    "The following function trains our GFN for a groundtruth expression $y = (x_1 + x_0) * x_0$ under given `batch_size` and `num_epochs`."
   ]
  },
  {
   "cell_type": "code",
   "execution_count": 7,
   "metadata": {},
   "outputs": [],
   "source": [
    "from fixed_tree import FixedTree, FTForwardPolicy, FTBackwardPolicy\n",
    "from gflownet.gflownet import GFlowNet\n",
    "from torch.optim import Adam\n",
    "from tqdm import tqdm\n",
    "from gflownet.utils import trajectory_balance_loss\n",
    "\n",
    "def train_fixed_tree(batch_size, num_epochs):\n",
    "    X = torch.randn(20, 2)\n",
    "    y = (X[:, 1] + X[:, 0]) * X[:, 0]\n",
    "    temp = torch.tensor([1, 1, 1, 1, 1, 0, 0])\n",
    "    env = FixedTree(temp, X, y)\n",
    "    forward_policy = FTForwardPolicy(env.state_dim, 32, env.num_actions)\n",
    "    backward_policy = FTBackwardPolicy(env.state_dim, num_actions=env.num_actions)\n",
    "    model = GFlowNet(forward_policy, backward_policy, env)\n",
    "    opt = Adam(model.parameters(), lr=5e-3)\n",
    "\n",
    "    for i in (p := tqdm(range(num_epochs))):\n",
    "        s0 = torch.zeros(batch_size, env.state_dim)\n",
    "        s, log = model.sample_states(s0, return_log=True)\n",
    "        log.back_probs.fill_(1.0)\n",
    "        loss = trajectory_balance_loss(log.total_flow,\n",
    "                                       log.rewards,\n",
    "                                       log.fwd_probs,\n",
    "                                       log.back_probs)\n",
    "        loss.backward()\n",
    "        opt.step()\n",
    "        opt.zero_grad()\n",
    "        if i % 10 == 0:\n",
    "            p.set_description(f\"{loss.item():.3f}\")\n",
    "\n",
    "    # s0 = one_hot(torch.zeros(10).long(), env.state_dim).float()\n",
    "    # s = model.sample_states(s0, return_log=False)\n",
    "    return model, env"
   ]
  },
  {
   "cell_type": "markdown",
   "metadata": {},
   "source": [
    "We simply train with `batch_size = 32` and `num_epochs = 20000`. After the training we take 20 samples for testing."
   ]
  },
  {
   "cell_type": "code",
   "execution_count": 8,
   "metadata": {},
   "outputs": [
    {
     "name": "stdout",
     "output_type": "stream",
     "text": [
      "current time:- 2023-03-16 18:48:04.468450\n"
     ]
    }
   ],
   "source": [
    "ct = datetime.datetime.now()\n",
    "print(\"current time:-\", ct)"
   ]
  },
  {
   "cell_type": "code",
   "execution_count": 9,
   "metadata": {},
   "outputs": [
    {
     "name": "stderr",
     "output_type": "stream",
     "text": [
      "6.584:  35%|███▍      | 6942/20000 [01:14<02:19, 93.41it/s] \n"
     ]
    },
    {
     "ename": "ValueError",
     "evalue": "Expected parameter probs (Tensor of shape (64, 12)) of distribution Categorical(probs: torch.Size([64, 12])) to satisfy the constraint Simplex(), but found invalid values:\ntensor([[nan, nan, nan, nan, nan, nan, nan, nan, nan, nan, nan, nan],\n        [nan, nan, nan, nan, nan, nan, nan, nan, nan, nan, nan, nan],\n        [nan, nan, nan, nan, nan, nan, nan, nan, nan, nan, nan, nan],\n        [nan, nan, nan, nan, nan, nan, nan, nan, nan, nan, nan, nan],\n        [nan, nan, nan, nan, nan, nan, nan, nan, nan, nan, nan, nan],\n        [nan, nan, nan, nan, nan, nan, nan, nan, nan, nan, nan, nan],\n        [nan, nan, nan, nan, nan, nan, nan, nan, nan, nan, nan, nan],\n        [nan, nan, nan, nan, nan, nan, nan, nan, nan, nan, nan, nan],\n        [nan, nan, nan, nan, nan, nan, nan, nan, nan, nan, nan, nan],\n        [nan, nan, nan, nan, nan, nan, nan, nan, nan, nan, nan, nan],\n        [nan, nan, nan, nan, nan, nan, nan, nan, nan, nan, nan, nan],\n        [nan, nan, nan, nan, nan, nan, nan, nan, nan, nan, nan, nan],\n        [nan, nan, nan, nan, nan, nan, nan, nan, nan, nan, nan, nan],\n        [nan, nan, nan, nan, nan, nan, nan, nan, nan, nan, nan, nan],\n        [nan, nan, nan, nan, nan, nan, nan, nan, nan, nan, nan, nan],\n        [nan, nan, nan, nan, nan, nan, nan, nan, nan, nan, nan, nan],\n        [nan, nan, nan, nan, nan, nan, nan, nan, nan, nan, nan, nan],\n        [nan, nan, nan, nan, nan, nan, nan, nan, nan, nan, nan, nan],\n        [nan, nan, nan, nan, nan, nan, nan, nan, nan, nan, nan, nan],\n        [nan, nan, nan, nan, nan, nan, nan, nan, nan, nan, nan, nan],\n        [nan, nan, nan, nan, nan, nan, nan, nan, nan, nan, nan, nan],\n        [nan, nan, nan, nan, nan, nan, nan, nan, nan, nan, nan, nan],\n        [nan, nan, nan, nan, nan, nan, nan, nan, nan, nan, nan, nan],\n        [nan, nan, nan, nan, nan, nan, nan, nan, nan, nan, nan, nan],\n        [nan, nan, nan, nan, nan, nan, nan, nan, nan, nan, nan, nan],\n        [nan, nan, nan, nan, nan, nan, nan, nan, nan, nan, nan, nan],\n        [nan, nan, nan, nan, nan, nan, nan, nan, nan, nan, nan, nan],\n        [nan, nan, nan, nan, nan, nan, nan, nan, nan, nan, nan, nan],\n        [nan, nan, nan, nan, nan, nan, nan, nan, nan, nan, nan, nan],\n        [nan, nan, nan, nan, nan, nan, nan, nan, nan, nan, nan, nan],\n        [nan, nan, nan, nan, nan, nan, nan, nan, nan, nan, nan, nan],\n        [nan, nan, nan, nan, nan, nan, nan, nan, nan, nan, nan, nan],\n        [nan, nan, nan, nan, nan, nan, nan, nan, nan, nan, nan, nan],\n        [nan, nan, nan, nan, nan, nan, nan, nan, nan, nan, nan, nan],\n        [nan, nan, nan, nan, nan, nan, nan, nan, nan, nan, nan, nan],\n        [nan, nan, nan, nan, nan, nan, nan, nan, nan, nan, nan, nan],\n        [nan, nan, nan, nan, nan, nan, nan, nan, nan, nan, nan, nan],\n        [nan, nan, nan, nan, nan, nan, nan, nan, nan, nan, nan, nan],\n        [nan, nan, nan, nan, nan, nan, nan, nan, nan, nan, nan, nan],\n        [nan, nan, nan, nan, nan, nan, nan, nan, nan, nan, nan, nan],\n        [nan, nan, nan, nan, nan, nan, nan, nan, nan, nan, nan, nan],\n        [nan, nan, nan, nan, nan, nan, nan, nan, nan, nan, nan, nan],\n        [nan, nan, nan, nan, nan, nan, nan, nan, nan, nan, nan, nan],\n        [nan, nan, nan, nan, nan, nan, nan, nan, nan, nan, nan, nan],\n        [nan, nan, nan, nan, nan, nan, nan, nan, nan, nan, nan, nan],\n        [nan, nan, nan, nan, nan, nan, nan, nan, nan, nan, nan, nan],\n        [nan, nan, nan, nan, nan, nan, nan, nan, nan, nan, nan, nan],\n        [nan, nan, nan, nan, nan, nan, nan, nan, nan, nan, nan, nan],\n        [nan, nan, nan, nan, nan, nan, nan, nan, nan, nan, nan, nan],\n        [nan, nan, nan, nan, nan, nan, nan, nan, nan, nan, nan, nan],\n        [nan, nan, nan, nan, nan, nan, nan, nan, nan, nan, nan, nan],\n        [nan, nan, nan, nan, nan, nan, nan, nan, nan, nan, nan, nan],\n        [nan, nan, nan, nan, nan, nan, nan, nan, nan, nan, nan, nan],\n        [nan, nan, nan, nan, nan, nan, nan, nan, nan, nan, nan, nan],\n        [nan, nan, nan, nan, nan, nan, nan, nan, nan, nan, nan, nan],\n        [nan, nan, nan, nan, nan, nan, nan, nan, nan, nan, nan, nan],\n        [nan, nan, nan, nan, nan, nan, nan, nan, nan, nan, nan, nan],\n        [nan, nan, nan, nan, nan, nan, nan, nan, nan, nan, nan, nan],\n        [nan, nan, nan, nan, nan, nan, nan, nan, nan, nan, nan, nan],\n        [nan, nan, nan, nan, nan, nan, nan, nan, nan, nan, nan, nan],\n        [nan, nan, nan, nan, nan, nan, nan, nan, nan, nan, nan, nan],\n        [nan, nan, nan, nan, nan, nan, nan, nan, nan, nan, nan, nan],\n        [nan, nan, nan, nan, nan, nan, nan, nan, nan, nan, nan, nan],\n        [nan, nan, nan, nan, nan, nan, nan, nan, nan, nan, nan, nan]],\n       grad_fn=<DivBackward0>)",
     "output_type": "error",
     "traceback": [
      "\u001B[0;31m---------------------------------------------------------------------------\u001B[0m",
      "\u001B[0;31mValueError\u001B[0m                                Traceback (most recent call last)",
      "\u001B[0;32m<ipython-input-9-5559219ef59b>\u001B[0m in \u001B[0;36m<module>\u001B[0;34m\u001B[0m\n\u001B[0;32m----> 1\u001B[0;31m \u001B[0mmodel\u001B[0m\u001B[0;34m,\u001B[0m \u001B[0menv\u001B[0m \u001B[0;34m=\u001B[0m \u001B[0mtrain_fixed_tree\u001B[0m\u001B[0;34m(\u001B[0m\u001B[0;36m64\u001B[0m\u001B[0;34m,\u001B[0m \u001B[0;36m20000\u001B[0m\u001B[0;34m)\u001B[0m\u001B[0;34m\u001B[0m\u001B[0;34m\u001B[0m\u001B[0m\n\u001B[0m",
      "\u001B[0;32m<ipython-input-7-83026b0921c5>\u001B[0m in \u001B[0;36mtrain_fixed_tree\u001B[0;34m(batch_size, num_epochs)\u001B[0m\n\u001B[1;32m     17\u001B[0m     \u001B[0;32mfor\u001B[0m \u001B[0mi\u001B[0m \u001B[0;32min\u001B[0m \u001B[0;34m(\u001B[0m\u001B[0mp\u001B[0m \u001B[0;34m:=\u001B[0m \u001B[0mtqdm\u001B[0m\u001B[0;34m(\u001B[0m\u001B[0mrange\u001B[0m\u001B[0;34m(\u001B[0m\u001B[0mnum_epochs\u001B[0m\u001B[0;34m)\u001B[0m\u001B[0;34m)\u001B[0m\u001B[0;34m)\u001B[0m\u001B[0;34m:\u001B[0m\u001B[0;34m\u001B[0m\u001B[0;34m\u001B[0m\u001B[0m\n\u001B[1;32m     18\u001B[0m         \u001B[0ms0\u001B[0m \u001B[0;34m=\u001B[0m \u001B[0mtorch\u001B[0m\u001B[0;34m.\u001B[0m\u001B[0mzeros\u001B[0m\u001B[0;34m(\u001B[0m\u001B[0mbatch_size\u001B[0m\u001B[0;34m,\u001B[0m \u001B[0menv\u001B[0m\u001B[0;34m.\u001B[0m\u001B[0mstate_dim\u001B[0m\u001B[0;34m)\u001B[0m\u001B[0;34m\u001B[0m\u001B[0;34m\u001B[0m\u001B[0m\n\u001B[0;32m---> 19\u001B[0;31m         \u001B[0ms\u001B[0m\u001B[0;34m,\u001B[0m \u001B[0mlog\u001B[0m \u001B[0;34m=\u001B[0m \u001B[0mmodel\u001B[0m\u001B[0;34m.\u001B[0m\u001B[0msample_states\u001B[0m\u001B[0;34m(\u001B[0m\u001B[0ms0\u001B[0m\u001B[0;34m,\u001B[0m \u001B[0mreturn_log\u001B[0m\u001B[0;34m=\u001B[0m\u001B[0;32mTrue\u001B[0m\u001B[0;34m)\u001B[0m\u001B[0;34m\u001B[0m\u001B[0;34m\u001B[0m\u001B[0m\n\u001B[0m\u001B[1;32m     20\u001B[0m         \u001B[0mlog\u001B[0m\u001B[0;34m.\u001B[0m\u001B[0mback_probs\u001B[0m\u001B[0;34m.\u001B[0m\u001B[0mfill_\u001B[0m\u001B[0;34m(\u001B[0m\u001B[0;36m1.0\u001B[0m\u001B[0;34m)\u001B[0m\u001B[0;34m\u001B[0m\u001B[0;34m\u001B[0m\u001B[0m\n\u001B[1;32m     21\u001B[0m         loss = trajectory_balance_loss(log.total_flow,\n",
      "\u001B[0;32m~/PycharmProjects/gfn-sr/gflownet/gflownet.py\u001B[0m in \u001B[0;36msample_states\u001B[0;34m(self, s0, return_log)\u001B[0m\n\u001B[1;32m     69\u001B[0m         \u001B[0;32mwhile\u001B[0m \u001B[0;32mnot\u001B[0m \u001B[0mdone\u001B[0m\u001B[0;34m.\u001B[0m\u001B[0mall\u001B[0m\u001B[0;34m(\u001B[0m\u001B[0;34m)\u001B[0m\u001B[0;34m:\u001B[0m\u001B[0;34m\u001B[0m\u001B[0;34m\u001B[0m\u001B[0m\n\u001B[1;32m     70\u001B[0m             \u001B[0mprobs\u001B[0m \u001B[0;34m=\u001B[0m \u001B[0mself\u001B[0m\u001B[0;34m.\u001B[0m\u001B[0mforward_probs\u001B[0m\u001B[0;34m(\u001B[0m\u001B[0ms\u001B[0m\u001B[0;34m[\u001B[0m\u001B[0;34m~\u001B[0m\u001B[0mdone\u001B[0m\u001B[0;34m]\u001B[0m\u001B[0;34m)\u001B[0m\u001B[0;34m\u001B[0m\u001B[0;34m\u001B[0m\u001B[0m\n\u001B[0;32m---> 71\u001B[0;31m             \u001B[0mactions\u001B[0m \u001B[0;34m=\u001B[0m \u001B[0mCategorical\u001B[0m\u001B[0;34m(\u001B[0m\u001B[0mprobs\u001B[0m\u001B[0;34m)\u001B[0m\u001B[0;34m.\u001B[0m\u001B[0msample\u001B[0m\u001B[0;34m(\u001B[0m\u001B[0;34m)\u001B[0m\u001B[0;34m\u001B[0m\u001B[0;34m\u001B[0m\u001B[0m\n\u001B[0m\u001B[1;32m     72\u001B[0m             \u001B[0ms\u001B[0m\u001B[0;34m[\u001B[0m\u001B[0;34m~\u001B[0m\u001B[0mdone\u001B[0m\u001B[0;34m]\u001B[0m \u001B[0;34m=\u001B[0m \u001B[0mself\u001B[0m\u001B[0;34m.\u001B[0m\u001B[0menv\u001B[0m\u001B[0;34m.\u001B[0m\u001B[0mupdate\u001B[0m\u001B[0;34m(\u001B[0m\u001B[0ms\u001B[0m\u001B[0;34m[\u001B[0m\u001B[0;34m~\u001B[0m\u001B[0mdone\u001B[0m\u001B[0;34m]\u001B[0m\u001B[0;34m,\u001B[0m \u001B[0mactions\u001B[0m\u001B[0;34m)\u001B[0m\u001B[0;34m\u001B[0m\u001B[0;34m\u001B[0m\u001B[0m\n\u001B[1;32m     73\u001B[0m \u001B[0;34m\u001B[0m\u001B[0m\n",
      "\u001B[0;32m/opt/anaconda3/envs/aer/lib/python3.8/site-packages/torch/distributions/categorical.py\u001B[0m in \u001B[0;36m__init__\u001B[0;34m(self, probs, logits, validate_args)\u001B[0m\n\u001B[1;32m     64\u001B[0m         \u001B[0mself\u001B[0m\u001B[0;34m.\u001B[0m\u001B[0m_num_events\u001B[0m \u001B[0;34m=\u001B[0m \u001B[0mself\u001B[0m\u001B[0;34m.\u001B[0m\u001B[0m_param\u001B[0m\u001B[0;34m.\u001B[0m\u001B[0msize\u001B[0m\u001B[0;34m(\u001B[0m\u001B[0;34m)\u001B[0m\u001B[0;34m[\u001B[0m\u001B[0;34m-\u001B[0m\u001B[0;36m1\u001B[0m\u001B[0;34m]\u001B[0m\u001B[0;34m\u001B[0m\u001B[0;34m\u001B[0m\u001B[0m\n\u001B[1;32m     65\u001B[0m         \u001B[0mbatch_shape\u001B[0m \u001B[0;34m=\u001B[0m \u001B[0mself\u001B[0m\u001B[0;34m.\u001B[0m\u001B[0m_param\u001B[0m\u001B[0;34m.\u001B[0m\u001B[0msize\u001B[0m\u001B[0;34m(\u001B[0m\u001B[0;34m)\u001B[0m\u001B[0;34m[\u001B[0m\u001B[0;34m:\u001B[0m\u001B[0;34m-\u001B[0m\u001B[0;36m1\u001B[0m\u001B[0;34m]\u001B[0m \u001B[0;32mif\u001B[0m \u001B[0mself\u001B[0m\u001B[0;34m.\u001B[0m\u001B[0m_param\u001B[0m\u001B[0;34m.\u001B[0m\u001B[0mndimension\u001B[0m\u001B[0;34m(\u001B[0m\u001B[0;34m)\u001B[0m \u001B[0;34m>\u001B[0m \u001B[0;36m1\u001B[0m \u001B[0;32melse\u001B[0m \u001B[0mtorch\u001B[0m\u001B[0;34m.\u001B[0m\u001B[0mSize\u001B[0m\u001B[0;34m(\u001B[0m\u001B[0;34m)\u001B[0m\u001B[0;34m\u001B[0m\u001B[0;34m\u001B[0m\u001B[0m\n\u001B[0;32m---> 66\u001B[0;31m         \u001B[0msuper\u001B[0m\u001B[0;34m(\u001B[0m\u001B[0;34m)\u001B[0m\u001B[0;34m.\u001B[0m\u001B[0m__init__\u001B[0m\u001B[0;34m(\u001B[0m\u001B[0mbatch_shape\u001B[0m\u001B[0;34m,\u001B[0m \u001B[0mvalidate_args\u001B[0m\u001B[0;34m=\u001B[0m\u001B[0mvalidate_args\u001B[0m\u001B[0;34m)\u001B[0m\u001B[0;34m\u001B[0m\u001B[0;34m\u001B[0m\u001B[0m\n\u001B[0m\u001B[1;32m     67\u001B[0m \u001B[0;34m\u001B[0m\u001B[0m\n\u001B[1;32m     68\u001B[0m     \u001B[0;32mdef\u001B[0m \u001B[0mexpand\u001B[0m\u001B[0;34m(\u001B[0m\u001B[0mself\u001B[0m\u001B[0;34m,\u001B[0m \u001B[0mbatch_shape\u001B[0m\u001B[0;34m,\u001B[0m \u001B[0m_instance\u001B[0m\u001B[0;34m=\u001B[0m\u001B[0;32mNone\u001B[0m\u001B[0;34m)\u001B[0m\u001B[0;34m:\u001B[0m\u001B[0;34m\u001B[0m\u001B[0;34m\u001B[0m\u001B[0m\n",
      "\u001B[0;32m/opt/anaconda3/envs/aer/lib/python3.8/site-packages/torch/distributions/distribution.py\u001B[0m in \u001B[0;36m__init__\u001B[0;34m(self, batch_shape, event_shape, validate_args)\u001B[0m\n\u001B[1;32m     60\u001B[0m                 \u001B[0mvalid\u001B[0m \u001B[0;34m=\u001B[0m \u001B[0mconstraint\u001B[0m\u001B[0;34m.\u001B[0m\u001B[0mcheck\u001B[0m\u001B[0;34m(\u001B[0m\u001B[0mvalue\u001B[0m\u001B[0;34m)\u001B[0m\u001B[0;34m\u001B[0m\u001B[0;34m\u001B[0m\u001B[0m\n\u001B[1;32m     61\u001B[0m                 \u001B[0;32mif\u001B[0m \u001B[0;32mnot\u001B[0m \u001B[0mvalid\u001B[0m\u001B[0;34m.\u001B[0m\u001B[0mall\u001B[0m\u001B[0;34m(\u001B[0m\u001B[0;34m)\u001B[0m\u001B[0;34m:\u001B[0m\u001B[0;34m\u001B[0m\u001B[0;34m\u001B[0m\u001B[0m\n\u001B[0;32m---> 62\u001B[0;31m                     raise ValueError(\n\u001B[0m\u001B[1;32m     63\u001B[0m                         \u001B[0;34mf\"Expected parameter {param} \"\u001B[0m\u001B[0;34m\u001B[0m\u001B[0;34m\u001B[0m\u001B[0m\n\u001B[1;32m     64\u001B[0m                         \u001B[0;34mf\"({type(value).__name__} of shape {tuple(value.shape)}) \"\u001B[0m\u001B[0;34m\u001B[0m\u001B[0;34m\u001B[0m\u001B[0m\n",
      "\u001B[0;31mValueError\u001B[0m: Expected parameter probs (Tensor of shape (64, 12)) of distribution Categorical(probs: torch.Size([64, 12])) to satisfy the constraint Simplex(), but found invalid values:\ntensor([[nan, nan, nan, nan, nan, nan, nan, nan, nan, nan, nan, nan],\n        [nan, nan, nan, nan, nan, nan, nan, nan, nan, nan, nan, nan],\n        [nan, nan, nan, nan, nan, nan, nan, nan, nan, nan, nan, nan],\n        [nan, nan, nan, nan, nan, nan, nan, nan, nan, nan, nan, nan],\n        [nan, nan, nan, nan, nan, nan, nan, nan, nan, nan, nan, nan],\n        [nan, nan, nan, nan, nan, nan, nan, nan, nan, nan, nan, nan],\n        [nan, nan, nan, nan, nan, nan, nan, nan, nan, nan, nan, nan],\n        [nan, nan, nan, nan, nan, nan, nan, nan, nan, nan, nan, nan],\n        [nan, nan, nan, nan, nan, nan, nan, nan, nan, nan, nan, nan],\n        [nan, nan, nan, nan, nan, nan, nan, nan, nan, nan, nan, nan],\n        [nan, nan, nan, nan, nan, nan, nan, nan, nan, nan, nan, nan],\n        [nan, nan, nan, nan, nan, nan, nan, nan, nan, nan, nan, nan],\n        [nan, nan, nan, nan, nan, nan, nan, nan, nan, nan, nan, nan],\n        [nan, nan, nan, nan, nan, nan, nan, nan, nan, nan, nan, nan],\n        [nan, nan, nan, nan, nan, nan, nan, nan, nan, nan, nan, nan],\n        [nan, nan, nan, nan, nan, nan, nan, nan, nan, nan, nan, nan],\n        [nan, nan, nan, nan, nan, nan, nan, nan, nan, nan, nan, nan],\n        [nan, nan, nan, nan, nan, nan, nan, nan, nan, nan, nan, nan],\n        [nan, nan, nan, nan, nan, nan, nan, nan, nan, nan, nan, nan],\n        [nan, nan, nan, nan, nan, nan, nan, nan, nan, nan, nan, nan],\n        [nan, nan, nan, nan, nan, nan, nan, nan, nan, nan, nan, nan],\n        [nan, nan, nan, nan, nan, nan, nan, nan, nan, nan, nan, nan],\n        [nan, nan, nan, nan, nan, nan, nan, nan, nan, nan, nan, nan],\n        [nan, nan, nan, nan, nan, nan, nan, nan, nan, nan, nan, nan],\n        [nan, nan, nan, nan, nan, nan, nan, nan, nan, nan, nan, nan],\n        [nan, nan, nan, nan, nan, nan, nan, nan, nan, nan, nan, nan],\n        [nan, nan, nan, nan, nan, nan, nan, nan, nan, nan, nan, nan],\n        [nan, nan, nan, nan, nan, nan, nan, nan, nan, nan, nan, nan],\n        [nan, nan, nan, nan, nan, nan, nan, nan, nan, nan, nan, nan],\n        [nan, nan, nan, nan, nan, nan, nan, nan, nan, nan, nan, nan],\n        [nan, nan, nan, nan, nan, nan, nan, nan, nan, nan, nan, nan],\n        [nan, nan, nan, nan, nan, nan, nan, nan, nan, nan, nan, nan],\n        [nan, nan, nan, nan, nan, nan, nan, nan, nan, nan, nan, nan],\n        [nan, nan, nan, nan, nan, nan, nan, nan, nan, nan, nan, nan],\n        [nan, nan, nan, nan, nan, nan, nan, nan, nan, nan, nan, nan],\n        [nan, nan, nan, nan, nan, nan, nan, nan, nan, nan, nan, nan],\n        [nan, nan, nan, nan, nan, nan, nan, nan, nan, nan, nan, nan],\n        [nan, nan, nan, nan, nan, nan, nan, nan, nan, nan, nan, nan],\n        [nan, nan, nan, nan, nan, nan, nan, nan, nan, nan, nan, nan],\n        [nan, nan, nan, nan, nan, nan, nan, nan, nan, nan, nan, nan],\n        [nan, nan, nan, nan, nan, nan, nan, nan, nan, nan, nan, nan],\n        [nan, nan, nan, nan, nan, nan, nan, nan, nan, nan, nan, nan],\n        [nan, nan, nan, nan, nan, nan, nan, nan, nan, nan, nan, nan],\n        [nan, nan, nan, nan, nan, nan, nan, nan, nan, nan, nan, nan],\n        [nan, nan, nan, nan, nan, nan, nan, nan, nan, nan, nan, nan],\n        [nan, nan, nan, nan, nan, nan, nan, nan, nan, nan, nan, nan],\n        [nan, nan, nan, nan, nan, nan, nan, nan, nan, nan, nan, nan],\n        [nan, nan, nan, nan, nan, nan, nan, nan, nan, nan, nan, nan],\n        [nan, nan, nan, nan, nan, nan, nan, nan, nan, nan, nan, nan],\n        [nan, nan, nan, nan, nan, nan, nan, nan, nan, nan, nan, nan],\n        [nan, nan, nan, nan, nan, nan, nan, nan, nan, nan, nan, nan],\n        [nan, nan, nan, nan, nan, nan, nan, nan, nan, nan, nan, nan],\n        [nan, nan, nan, nan, nan, nan, nan, nan, nan, nan, nan, nan],\n        [nan, nan, nan, nan, nan, nan, nan, nan, nan, nan, nan, nan],\n        [nan, nan, nan, nan, nan, nan, nan, nan, nan, nan, nan, nan],\n        [nan, nan, nan, nan, nan, nan, nan, nan, nan, nan, nan, nan],\n        [nan, nan, nan, nan, nan, nan, nan, nan, nan, nan, nan, nan],\n        [nan, nan, nan, nan, nan, nan, nan, nan, nan, nan, nan, nan],\n        [nan, nan, nan, nan, nan, nan, nan, nan, nan, nan, nan, nan],\n        [nan, nan, nan, nan, nan, nan, nan, nan, nan, nan, nan, nan],\n        [nan, nan, nan, nan, nan, nan, nan, nan, nan, nan, nan, nan],\n        [nan, nan, nan, nan, nan, nan, nan, nan, nan, nan, nan, nan],\n        [nan, nan, nan, nan, nan, nan, nan, nan, nan, nan, nan, nan],\n        [nan, nan, nan, nan, nan, nan, nan, nan, nan, nan, nan, nan]],\n       grad_fn=<DivBackward0>)"
     ]
    }
   ],
   "source": [
    "model, env = train_fixed_tree(64, 20000)"
   ]
  },
  {
   "cell_type": "code",
   "execution_count": null,
   "metadata": {},
   "outputs": [],
   "source": [
    "s0 = torch.zeros(20, env.state_dim)\n",
    "s = model.sample_states(s0, return_log = False)"
   ]
  },
  {
   "cell_type": "markdown",
   "metadata": {},
   "source": [
    "The training should be fairly fast (around 1 minute) and the sampling should be immediate (this is why GFN is also known as an amortized MCMC -- it uses longer training time to exchange ultra fast sampling process). You should also see the loss reduced hugely."
   ]
  },
  {
   "cell_type": "code",
   "execution_count": null,
   "metadata": {},
   "outputs": [],
   "source": [
    "s"
   ]
  },
  {
   "cell_type": "markdown",
   "metadata": {},
   "source": [
    "Out of the 20 samples, many of them are [4, 3, 1, 2, 1, 0, 0], which is the exact groud-truth solution."
   ]
  },
  {
   "cell_type": "code",
   "execution_count": null,
   "metadata": {},
   "outputs": [],
   "source": [
    "print(encoding_to_tree(torch.Tensor([4, 3, 1, 2, 1, 0, 0])))"
   ]
  },
  {
   "cell_type": "markdown",
   "metadata": {},
   "source": [
    "With around 50000 epoch of training (3-5 minutes), the samples are mostly the correct answer. To sum up, this simple demo already shows the potential of GFN in fulfilling SR tasks.\n"
   ]
  },
  {
   "cell_type": "markdown",
   "metadata": {},
   "source": [
    "### Step 5: Potential Next Steps\n",
    "\n",
    "There are many ways that this MVP GFN model can be improved. To name a few priority items:\n",
    "\n",
    "- encoder: we propose a vector-based encoder schema for an expression tree object. Under this setup the vector will contain lots of sparsity (especially when the tree grows deeper). Other alternative encoders include Tree-RNN, VAE, or a stripped version of the current vector representation.\n",
    "- action: our current actions assign features/operators according to a given template (structure) from left to right, level by level. There might be other ways to formulate the action space so it fits in a natural construction process better.\n",
    "- reward function: there can be other reward functions (e.g. likelihood-based, utility theory related, etc.) other than the current one based on MSE.\n",
    "- structure proposal: simultaneously training a structure proposal GFN at the same time?\n",
    "- ...: let's come together and think about more."
   ]
  },
  {
   "cell_type": "code",
   "execution_count": null,
   "metadata": {},
   "outputs": [],
   "source": []
  }
 ],
 "metadata": {
  "kernelspec": {
   "display_name": "Python 3",
   "language": "python",
   "name": "python3"
  },
  "language_info": {
   "codemirror_mode": {
    "name": "ipython",
    "version": 3
   },
   "file_extension": ".py",
   "mimetype": "text/x-python",
   "name": "python",
   "nbconvert_exporter": "python",
   "pygments_lexer": "ipython3",
   "version": "3.8.16"
  }
 },
 "nbformat": 4,
 "nbformat_minor": 1
}
