{
 "cells": [
  {
   "cell_type": "code",
   "execution_count": 33,
   "metadata": {
    "collapsed": true
   },
   "outputs": [],
   "source": [
    "def infer_binary_tree_depth(ecd):\n",
    "    \"\"\"\n",
    "    Infer the total depth (an empty tree is assumed to have depth 0) of a given\n",
    "    `ecd` -- an encoding representation for a complete binary tree\n",
    "    \"\"\"\n",
    "    n = len(ecd)\n",
    "    d, s = 0, 0\n",
    "    while n > s:\n",
    "        d = d + 1\n",
    "        s = 2 ** d - 1\n",
    "    return d, n\n",
    "\n",
    "\n",
    "def get_level_to_pre_mapping(d):\n",
    "    \"\"\"\n",
    "    Obtain the level-order to pre-order (as well as the pre-order to level-order)\n",
    "    mapping based on the given depth `d` for a complete binary tree.\n",
    "    A mapping is defined as an array such that, when queried by index from the source\n",
    "    order, it returns the value in the target order.\n",
    "    \"\"\"\n",
    "    n = 2 ** d - 1\n",
    "    pre_to_level_map, level_to_pre_map = [], [0] * n\n",
    "    counter = 0\n",
    "    stack = [0]\n",
    "    # a simple DFS would give the mapping from pre-order to level-order\n",
    "    # the reverse mapping, which is of our major interest, can be obtained\n",
    "    # in the same one run as well by flipping the index and value\n",
    "    while len(stack):\n",
    "        el = stack.pop()\n",
    "        left, right = el * 2 + 1, el * 2 + 2\n",
    "        pre_to_level_map.append(el)\n",
    "        level_to_pre_map[el] = counter\n",
    "        counter += 1\n",
    "        if left < n:\n",
    "            stack.append(right)\n",
    "            stack.append(left)\n",
    "\n",
    "    return level_to_pre_map, pre_to_level_map\n",
    "\n",
    "\n",
    "def convert_level_order_to_pre_order(level_order_ecd):\n",
    "    d, n = infer_binary_tree_depth(level_order_ecd)\n",
    "    level_to_pre_map, _ = get_level_to_pre_mapping(d)\n",
    "    pre_order_ecd = [0] * n\n",
    "    for i in range(n):\n",
    "        pre_order_ecd[level_to_pre_map[i]] = level_order_ecd[i]\n",
    "    return pre_order_ecd\n",
    "\n",
    "\n",
    "def convert_pre_order_to_level_order(pre_order_ecd):\n",
    "    d, n = infer_binary_tree_depth(pre_order_ecd)\n",
    "    _, pre_to_level_map = get_level_to_pre_mapping(d)\n",
    "    level_order_ecd = [0] * n\n",
    "    for i in range(n):\n",
    "        level_order_ecd[pre_to_level_map[i]] = pre_order_ecd[i]\n",
    "    return level_order_ecd"
   ]
  },
  {
   "cell_type": "code",
   "execution_count": 107,
   "outputs": [],
   "source": [
    "# (10 + x1) * x1\n",
    "fake_level_order = [\"*\", \"x1\", \"+\", \"-1\", \"-1\", \"10\", \"x1\"]"
   ],
   "metadata": {
    "collapsed": false
   }
  },
  {
   "cell_type": "code",
   "execution_count": 108,
   "outputs": [
    {
     "data": {
      "text/plain": "['*', 'x1', '-1', '-1', '+', '10', 'x1']"
     },
     "execution_count": 108,
     "metadata": {},
     "output_type": "execute_result"
    }
   ],
   "source": [
    "fake_pre_order = convert_level_order_to_pre_order(fake_level_order)\n",
    "fake_pre_order"
   ],
   "metadata": {
    "collapsed": false
   }
  },
  {
   "cell_type": "code",
   "execution_count": 109,
   "outputs": [
    {
     "data": {
      "text/plain": "['*', 'x1', '+', '-1', '-1', '10', 'x1']"
     },
     "execution_count": 109,
     "metadata": {},
     "output_type": "execute_result"
    }
   ],
   "source": [
    "recovered_level_order = convert_pre_order_to_level_order(fake_pre_order)\n",
    "recovered_level_order"
   ],
   "metadata": {
    "collapsed": false
   }
  },
  {
   "cell_type": "markdown",
   "source": [
    "## Part II: Keeping track of the next tokens to assign\n",
    "\n",
    "The easy way to implement is to first obtain the mappings (from above), and then keep track of the level-order encoding (as usual), and map the next token to assign to a pre-order one."
   ],
   "metadata": {
    "collapsed": false
   }
  },
  {
   "cell_type": "markdown",
   "source": [],
   "metadata": {
    "collapsed": false
   }
  },
  {
   "cell_type": "code",
   "execution_count": 104,
   "outputs": [],
   "source": [
    "level_to_pre_map, pre_to_level_map = get_level_to_pre_mapping(3)"
   ],
   "metadata": {
    "collapsed": false
   }
  },
  {
   "cell_type": "code",
   "execution_count": 106,
   "outputs": [
    {
     "data": {
      "text/plain": "[0, 1, 4, 2, 3, 5, 6]"
     },
     "execution_count": 106,
     "metadata": {},
     "output_type": "execute_result"
    }
   ],
   "source": [
    "level_to_pre_map"
   ],
   "metadata": {
    "collapsed": false
   }
  },
  {
   "cell_type": "code",
   "execution_count": 98,
   "outputs": [],
   "source": [
    "def find_first_placeholder(ecd, placeholder=-2):\n",
    "    for i in range(len(ecd)):\n",
    "        if ecd[i] == placeholder:\n",
    "            return i\n",
    "    return -1\n",
    "\n",
    "def ecd_update_one_step(pre_order_ecd, level_order_ecd, action, level_to_pre_map, pre_to_level_map, placeholder=-2):\n",
    "    # find the next token to assign from pre-order ecd\n",
    "    assign_idx_pre = find_first_placeholder(pre_order_ecd, placeholder)\n",
    "    assign_idx_level = pre_to_level_map[assign_idx_pre]\n",
    "    pre_order_ecd[assign_idx_pre] = action\n",
    "    level_order_ecd[assign_idx_level] = action\n",
    "\n",
    "    # find the children indices in level-order\n",
    "    left_idx_level = assign_idx_level * 2 + 1\n",
    "    right_idx_level = assign_idx_level * 2 + 2\n",
    "\n",
    "    if action in [\"*\", \"+\"]:\n",
    "        left_idx_pre = level_to_pre_map[left_idx_level]\n",
    "        right_idx_pre = level_to_pre_map[right_idx_level]\n",
    "\n",
    "        level_order_ecd[left_idx_level] = placeholder\n",
    "        level_order_ecd[right_idx_level] = placeholder\n",
    "\n",
    "        pre_order_ecd[left_idx_pre] = placeholder\n",
    "        pre_order_ecd[right_idx_pre] = placeholder\n",
    "    elif action in [\"sin\", \"cos\"]:\n",
    "        left_idx_pre = level_to_pre_map[left_idx_level]\n",
    "\n",
    "        level_order_ecd[left_idx_level] = placeholder\n",
    "        pre_order_ecd[left_idx_pre] = placeholder\n"
   ],
   "metadata": {
    "collapsed": false
   }
  },
  {
   "cell_type": "code",
   "execution_count": 101,
   "outputs": [],
   "source": [
    "import random\n",
    "\n",
    "features = [\"x1\", \"x2\"]\n",
    "functions = [\"*\", \"+\", \"sin\", \"cos\"]\n",
    "\n",
    "def simulate_tree_construction(depth=3, placeholder=-2):\n",
    "    level_to_pre_map, pre_to_level_map = get_level_to_pre_mapping(depth)\n",
    "    n = 2 ** depth - 1\n",
    "    pre_order_ecd, level_order_ecd = [-1] * n, [-1] * n\n",
    "    pre_order_ecd[0] = level_order_ecd[0] = placeholder\n",
    "    next_token_pre = find_first_placeholder(pre_order_ecd, placeholder)\n",
    "    while next_token_pre != -1:\n",
    "        next_token_level = pre_to_level_map[next_token_pre]\n",
    "        if 2 * next_token_level + 1 < n:\n",
    "            action = random.choice(features + functions)\n",
    "        else:\n",
    "            action = random.choice(features)\n",
    "        ecd_update_one_step(pre_order_ecd, level_order_ecd, action,\n",
    "                            level_to_pre_map, pre_to_level_map, placeholder)\n",
    "        next_token_pre = find_first_placeholder(pre_order_ecd, placeholder)\n",
    "        print(\"action to assign:\", action)\n",
    "        print(\"pre-order:\", pre_order_ecd)\n",
    "        print(\"level-order:\", level_order_ecd)\n",
    "    return pre_order_ecd, level_order_ecd"
   ],
   "metadata": {
    "collapsed": false
   }
  },
  {
   "cell_type": "code",
   "execution_count": 102,
   "outputs": [
    {
     "name": "stdout",
     "output_type": "stream",
     "text": [
      "action to assign: +\n",
      "pre-order: ['+', -2, -1, -1, -2, -1, -1]\n",
      "level-order: ['+', -2, -2, -1, -1, -1, -1]\n",
      "action to assign: sin\n",
      "pre-order: ['+', 'sin', -2, -1, -2, -1, -1]\n",
      "level-order: ['+', 'sin', -2, -2, -1, -1, -1]\n",
      "action to assign: x1\n",
      "pre-order: ['+', 'sin', 'x1', -1, -2, -1, -1]\n",
      "level-order: ['+', 'sin', -2, 'x1', -1, -1, -1]\n",
      "action to assign: *\n",
      "pre-order: ['+', 'sin', 'x1', -1, '*', -2, -2]\n",
      "level-order: ['+', 'sin', '*', 'x1', -1, -2, -2]\n",
      "action to assign: x2\n",
      "pre-order: ['+', 'sin', 'x1', -1, '*', 'x2', -2]\n",
      "level-order: ['+', 'sin', '*', 'x1', -1, 'x2', -2]\n",
      "action to assign: x1\n",
      "pre-order: ['+', 'sin', 'x1', -1, '*', 'x2', 'x1']\n",
      "level-order: ['+', 'sin', '*', 'x1', -1, 'x2', 'x1']\n"
     ]
    },
    {
     "data": {
      "text/plain": "(['+', 'sin', 'x1', -1, '*', 'x2', 'x1'],\n ['+', 'sin', '*', 'x1', -1, 'x2', 'x1'])"
     },
     "execution_count": 102,
     "metadata": {},
     "output_type": "execute_result"
    }
   ],
   "source": [
    "simulate_tree_construction()"
   ],
   "metadata": {
    "collapsed": false
   }
  },
  {
   "cell_type": "code",
   "execution_count": null,
   "outputs": [],
   "source": [],
   "metadata": {
    "collapsed": false
   }
  }
 ],
 "metadata": {
  "kernelspec": {
   "display_name": "Python 3",
   "language": "python",
   "name": "python3"
  },
  "language_info": {
   "codemirror_mode": {
    "name": "ipython",
    "version": 2
   },
   "file_extension": ".py",
   "mimetype": "text/x-python",
   "name": "python",
   "nbconvert_exporter": "python",
   "pygments_lexer": "ipython2",
   "version": "2.7.6"
  }
 },
 "nbformat": 4,
 "nbformat_minor": 0
}
